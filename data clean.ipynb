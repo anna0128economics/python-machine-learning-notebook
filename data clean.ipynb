{
 "cells": [
  {
   "cell_type": "markdown",
   "id": "1f16d7a0",
   "metadata": {},
   "source": [
    "# 需要导入的包"
   ]
  },
  {
   "cell_type": "code",
   "execution_count": 2,
   "id": "5fe0212d",
   "metadata": {},
   "outputs": [
    {
     "name": "stderr",
     "output_type": "stream",
     "text": [
      "UsageError: Line magic function `%%time` not found.\n"
     ]
    }
   ],
   "source": [
    "import pandas as pd\n",
    "import matplotlib.pyplot as plt\n",
    "import seaborn as sns\n",
    "import numpy as np\n",
    "from sklearn.metrics import r2_score\n",
    "from sklearn import datasets, linear_model\n",
    "from sklearn.metrics import mean_squared_error, r2_score\n",
    "from sklearn.model_selection import train_test_split\n",
    "import pandas as pd\n",
    "import matplotlib.pyplot as plt\n",
    "import seaborn as sns\n",
    "from sklearn.linear_model import LinearRegression, Ridge,Lasso\n",
    "from sklearn.metrics import r2_score\n",
    "import sklearn.datasets as datasets\n",
    "from sklearn import metrics\n",
    "from sklearn.model_selection import cross_val_score\n",
    "import sklearn.datasets as datasets\n",
    "%matplotlib inline\n",
    "from IPython.core.interactiveshell import InteractiveShell ##显示单元格内全部命令结果\n",
    "InteractiveShell.ast_node_interactivity=\"all\"\n",
    "%%time  \n",
    "\n"
   ]
  },
  {
   "cell_type": "markdown",
   "id": "fa8bde5d",
   "metadata": {},
   "source": [
    "# 储存读取数据"
   ]
  },
  {
   "cell_type": "markdown",
   "id": "5d09bf1e",
   "metadata": {},
   "source": [
    "https://www.gairuo.com/p/pandas-read-csv"
   ]
  },
  {
   "cell_type": "markdown",
   "id": "1c0bf29f",
   "metadata": {},
   "source": [
    "## 读取/储存大量数据"
   ]
  },
  {
   "cell_type": "code",
   "execution_count": null,
   "id": "ea06c658",
   "metadata": {},
   "outputs": [],
   "source": [
    "data2.to_pickle(\"cleaned.pkl\")\n",
    "pd.read_pickle(\"a_file.pkl\")"
   ]
  },
  {
   "cell_type": "markdown",
   "id": "3978ae64",
   "metadata": {},
   "source": [
    "## 读取和notebook同路径数据"
   ]
  },
  {
   "cell_type": "code",
   "execution_count": null,
   "id": "0cb7d01b",
   "metadata": {},
   "outputs": [],
   "source": [
    "pd.read_csv('data/data.csv') # 注意目录层级\n",
    "pd.read_csv('data.csv') # 如果文件与代码文件在同目录下"
   ]
  },
  {
   "cell_type": "code",
   "execution_count": null,
   "id": "142c61e8",
   "metadata": {},
   "outputs": [],
   "source": []
  },
  {
   "cell_type": "markdown",
   "id": "2c79c8a1",
   "metadata": {},
   "source": [
    "## 读取在线数据"
   ]
  },
  {
   "cell_type": "code",
   "execution_count": null,
   "id": "8de451a6",
   "metadata": {},
   "outputs": [],
   "source": [
    "url=\"https://archive.ics.uci.edu/ml/machine-learning-databases/iris/iris.data\"\n",
    "names=['sl','sw','pl','pw','class']\n",
    "df=pd.read_csv(url,names=names)"
   ]
  },
  {
   "cell_type": "code",
   "execution_count": null,
   "id": "57eb53eb",
   "metadata": {},
   "outputs": [],
   "source": []
  },
  {
   "cell_type": "markdown",
   "id": "848558d3",
   "metadata": {},
   "source": [
    "## 读本地数据"
   ]
  },
  {
   "cell_type": "code",
   "execution_count": null,
   "id": "0d5685c0",
   "metadata": {},
   "outputs": [],
   "source": [
    "data=pd.read_stata(\"/Users/chenxiaomeng/Desktop/lll/3.14.dta\")"
   ]
  },
  {
   "cell_type": "code",
   "execution_count": null,
   "id": "1ca7d159",
   "metadata": {},
   "outputs": [],
   "source": [
    "pd.read_csv('/user/gairuo/data/data.csv')"
   ]
  },
  {
   "cell_type": "code",
   "execution_count": null,
   "id": "b7ccaf14",
   "metadata": {},
   "outputs": [],
   "source": []
  },
  {
   "cell_type": "markdown",
   "id": "a1186ffe",
   "metadata": {},
   "source": [
    "## 指定列名，index"
   ]
  },
  {
   "cell_type": "code",
   "execution_count": null,
   "id": "25082fd4",
   "metadata": {},
   "outputs": [],
   "source": [
    "pd.read_csv(data, names=['列1', '列2']) # 指定列名列表"
   ]
  },
  {
   "cell_type": "code",
   "execution_count": null,
   "id": "7d2916d4",
   "metadata": {},
   "outputs": [],
   "source": [
    "# int, str, sequence of int / str, or False, default None\n",
    "# 默认为 `None`, 不自动识别索引\n",
    "pd.read_csv(data, index_col=False) # 不再使用首列作为索引\n",
    "pd.read_csv(data, index_col=0) # 第几列是索引\n",
    "pd.read_csv(data, index_col='年份') # 指定列名\n",
    "pd.read_csv(data, index_col=['a','b']) # 多个索引\n",
    "pd.read_csv(data, index_col=[0, 3]) # 按列索引指定多个索引"
   ]
  },
  {
   "cell_type": "code",
   "execution_count": 1,
   "id": "34b89986",
   "metadata": {
    "collapsed": true
   },
   "outputs": [
    {
     "ename": "NameError",
     "evalue": "name 'pd' is not defined",
     "output_type": "error",
     "traceback": [
      "\u001b[0;31m---------------------------------------------------------------------------\u001b[0m",
      "\u001b[0;31mNameError\u001b[0m                                 Traceback (most recent call last)",
      "\u001b[0;32m/var/folders/f0/5q3xb27d4tv30g_n_1h0k3380000gn/T/ipykernel_4612/2427426880.py\u001b[0m in \u001b[0;36m<module>\u001b[0;34m\u001b[0m\n\u001b[1;32m      2\u001b[0m \u001b[0;31m# str, optional\u001b[0m\u001b[0;34m\u001b[0m\u001b[0;34m\u001b[0m\u001b[0m\n\u001b[1;32m      3\u001b[0m \u001b[0;31m# 表头为 c_0、c_2\u001b[0m\u001b[0;34m\u001b[0m\u001b[0;34m\u001b[0m\u001b[0m\n\u001b[0;32m----> 4\u001b[0;31m \u001b[0mpd\u001b[0m\u001b[0;34m.\u001b[0m\u001b[0mread_csv\u001b[0m\u001b[0;34m(\u001b[0m\u001b[0mdata\u001b[0m\u001b[0;34m,\u001b[0m \u001b[0mprefix\u001b[0m\u001b[0;34m=\u001b[0m\u001b[0;34m'c_'\u001b[0m\u001b[0;34m,\u001b[0m \u001b[0mheader\u001b[0m\u001b[0;34m=\u001b[0m\u001b[0;32mNone\u001b[0m\u001b[0;34m)\u001b[0m\u001b[0;34m\u001b[0m\u001b[0;34m\u001b[0m\u001b[0m\n\u001b[0m",
      "\u001b[0;31mNameError\u001b[0m: name 'pd' is not defined"
     ]
    }
   ],
   "source": [
    "## 表头prefix\n",
    "# str, optional\n",
    "# 表头为 c_0、c_2\n",
    "pd.read_csv(data, prefix='c_', header=None)"
   ]
  },
  {
   "cell_type": "markdown",
   "id": "0109bbd0",
   "metadata": {},
   "source": [
    "## 读取部分列"
   ]
  },
  {
   "cell_type": "code",
   "execution_count": null,
   "id": "542b31dc",
   "metadata": {},
   "outputs": [],
   "source": [
    "# list-like or callable, optional\n",
    "# 读取部分列\n",
    "pd.read_csv(data, usecols=[0,4,3]) # 按索引只读取指定列，顺序无关\n",
    "pd.read_csv(data, usecols=['列1', '列5']) # 按列名，列名必须存在\n",
    "# 指定列顺序，其实是 df 的筛选功能\n",
    "pd.read_csv(data, usecols=['列1', '列5'])[['列5', '列1']]\n",
    "# 以下用 callable 方式可以巧妙指定顺序, in 后边的是我们要的顺序\n",
    "pd.read_csv(data, usecols=lambda x: x.upper() in ['COL3', 'COL1'])\n"
   ]
  },
  {
   "cell_type": "code",
   "execution_count": null,
   "id": "71e9b8d0",
   "metadata": {},
   "outputs": [],
   "source": []
  },
  {
   "cell_type": "markdown",
   "id": "03ac2fff",
   "metadata": {},
   "source": [
    "# python基本操作"
   ]
  },
  {
   "cell_type": "code",
   "execution_count": null,
   "id": "2f5d0add",
   "metadata": {},
   "outputs": [],
   "source": [
    "生成数列，占位符，正则表达"
   ]
  },
  {
   "cell_type": "code",
   "execution_count": null,
   "id": "4f2c42ff",
   "metadata": {},
   "outputs": [],
   "source": [
    "range(1,6)\n",
    "np.arange(4,9)\n",
    "X_train_tokens[-50:] #查看最后五十个数据"
   ]
  },
  {
   "cell_type": "markdown",
   "id": "09169463",
   "metadata": {},
   "source": [
    "# pandas常用计算"
   ]
  },
  {
   "cell_type": "markdown",
   "id": "790a5a51",
   "metadata": {},
   "source": [
    "## 总汇计算"
   ]
  },
  {
   "cell_type": "code",
   "execution_count": null,
   "id": "302d7d13",
   "metadata": {},
   "outputs": [],
   "source": [
    "df=pd.read_csv('my_csv.csv',header=0,\\\n",
    " encoding='gbk',dtype={'年龄':float})\n",
    "sele_att=[\"年龄\",\"身高\"]\n",
    "print('求最小值----')\n",
    "print(df[sele_att].min(axis=0))\n",
    "print('求最大值----')\n",
    "print(df[sele_att].max(axis=0))\n",
    "print('求最中位值----')\n",
    "print(df[sele_att].median(axis=0))\n",
    "print('求每列累加值----')\n",
    "print(df[sele_att].cumsum(axis=0))\n",
    "print('求每列加和值----')\n",
    "print(df[sele_att].sum(axis=0))\n",
    "print('求每列分位数值----')\n",
    "print(df[sele_att].quantile([0,0.2,0.5,1.0],axis=0))\n",
    "print('对数值列的计算描述----')\n",
    "print(df[sele_att].describe())\n",
    "print('对所有列的对象描述----')\n",
    "print(df.describe(include=['object']))\n",
    "\n",
    "##计算纵向均值\n",
    "yellow_mean=discipline['Yellow Cards'].mean()\n",
    "\n",
    "##计算横向加和\n",
    "temp = student[[\"Test_1\",\"Test_2\",\"Test_3\"]]\n",
    "student[\"total\"] = temp.sum(axis=1)#axis 0为列，1为行\n",
    "\n",
    "#原文链接：https://blog.csdn.net/weixin_43794311/article/details/104738314"
   ]
  },
  {
   "cell_type": "markdown",
   "id": "dead113e",
   "metadata": {},
   "source": [
    "## 分组计算"
   ]
  },
  {
   "cell_type": "code",
   "execution_count": null,
   "id": "4f852b7a",
   "metadata": {},
   "outputs": [],
   "source": [
    "df=pd.read_csv('my_csv.csv',header=0,\\\n",
    " encoding='gbk',dtype={'年龄':float})\n",
    "groupde=df.groupby(by='身高')\n",
    "print(groupde.mean())\n",
    "print('--分割=='*3)\n",
    "print(groupde.max())\n",
    "print('--计数分割=='*3)\n",
    "print(groupde.count())\n",
    "print('--数据量分割=='*4)\n",
    "print(groupde.size())\n"
   ]
  },
  {
   "cell_type": "code",
   "execution_count": null,
   "id": "2a1feca8",
   "metadata": {},
   "outputs": [],
   "source": []
  },
  {
   "cell_type": "code",
   "execution_count": null,
   "id": "8ef00a01",
   "metadata": {},
   "outputs": [],
   "source": []
  },
  {
   "cell_type": "code",
   "execution_count": null,
   "id": "38c6dda4",
   "metadata": {},
   "outputs": [],
   "source": []
  },
  {
   "cell_type": "code",
   "execution_count": null,
   "id": "82f133f3",
   "metadata": {},
   "outputs": [],
   "source": []
  },
  {
   "cell_type": "code",
   "execution_count": null,
   "id": "3731ec76",
   "metadata": {},
   "outputs": [],
   "source": []
  },
  {
   "cell_type": "code",
   "execution_count": null,
   "id": "272199a2",
   "metadata": {},
   "outputs": [],
   "source": []
  },
  {
   "cell_type": "code",
   "execution_count": null,
   "id": "7eca7bbc",
   "metadata": {},
   "outputs": [],
   "source": []
  },
  {
   "cell_type": "code",
   "execution_count": null,
   "id": "1585d874",
   "metadata": {},
   "outputs": [],
   "source": []
  },
  {
   "cell_type": "code",
   "execution_count": null,
   "id": "0973e1a6",
   "metadata": {},
   "outputs": [],
   "source": []
  },
  {
   "cell_type": "markdown",
   "id": "2dd2fff9",
   "metadata": {},
   "source": [
    "# 创建数据框"
   ]
  },
  {
   "cell_type": "markdown",
   "id": "f7936d5a",
   "metadata": {},
   "source": [
    "### 空框"
   ]
  },
  {
   "cell_type": "code",
   "execution_count": null,
   "id": "6e0e1834",
   "metadata": {},
   "outputs": [],
   "source": [
    "pd.DataFrame(columns=['A', 'B', 'C'], index=[0,1,2])"
   ]
  },
  {
   "cell_type": "code",
   "execution_count": null,
   "id": "41763ca2",
   "metadata": {},
   "outputs": [],
   "source": []
  },
  {
   "cell_type": "markdown",
   "id": "22e47410",
   "metadata": {},
   "source": [
    "### 字典"
   ]
  },
  {
   "cell_type": "code",
   "execution_count": 19,
   "id": "5ebf43fc",
   "metadata": {},
   "outputs": [
    {
     "data": {
      "text/html": [
       "<div>\n",
       "<style scoped>\n",
       "    .dataframe tbody tr th:only-of-type {\n",
       "        vertical-align: middle;\n",
       "    }\n",
       "\n",
       "    .dataframe tbody tr th {\n",
       "        vertical-align: top;\n",
       "    }\n",
       "\n",
       "    .dataframe thead th {\n",
       "        text-align: right;\n",
       "    }\n",
       "</style>\n",
       "<table border=\"1\" class=\"dataframe\">\n",
       "  <thead>\n",
       "    <tr style=\"text-align: right;\">\n",
       "      <th></th>\n",
       "      <th>age</th>\n",
       "      <th>name</th>\n",
       "    </tr>\n",
       "  </thead>\n",
       "  <tbody>\n",
       "    <tr>\n",
       "      <th>0</th>\n",
       "      <td>1</td>\n",
       "      <td>a</td>\n",
       "    </tr>\n",
       "    <tr>\n",
       "      <th>1</th>\n",
       "      <td>2</td>\n",
       "      <td>e</td>\n",
       "    </tr>\n",
       "    <tr>\n",
       "      <th>2</th>\n",
       "      <td>3</td>\n",
       "      <td>d</td>\n",
       "    </tr>\n",
       "  </tbody>\n",
       "</table>\n",
       "</div>"
      ],
      "text/plain": [
       "   age name\n",
       "0    1    a\n",
       "1    2    e\n",
       "2    3    d"
      ]
     },
     "execution_count": 19,
     "metadata": {},
     "output_type": "execute_result"
    }
   ],
   "source": [
    "df=pd.DataFrame({'age':[1,2,3],\"name\":['a','e','d']})\n",
    "df"
   ]
  },
  {
   "cell_type": "markdown",
   "id": "af6d3024",
   "metadata": {},
   "source": [
    "### 制定列名和obs"
   ]
  },
  {
   "cell_type": "code",
   "execution_count": null,
   "id": "0b06d6a3",
   "metadata": {},
   "outputs": [],
   "source": [
    "df = pd.DataFrame(data=['Apple','Banana','Cherry','Dates', 'Eggfruit'], \n",
    "                  columns=['Fruits'])\n"
   ]
  },
  {
   "cell_type": "code",
   "execution_count": null,
   "id": "f7d8e6cc",
   "metadata": {},
   "outputs": [],
   "source": [
    "pd.DataFrame(data=[['Apple',5],\n",
    "                   ['Banana',10],\n",
    "                   ['Cherry',8],\n",
    "                   ['Dates',3],\n",
    "                   ['Eggfruit',7]],\n",
    "             columns = ['Fruits','Quantity'],\n",
    "             index=[1,2,3,4,5])"
   ]
  },
  {
   "cell_type": "markdown",
   "id": "3e8c2c9e",
   "metadata": {},
   "source": [
    "### 设index"
   ]
  },
  {
   "cell_type": "code",
   "execution_count": null,
   "id": "a551450a",
   "metadata": {},
   "outputs": [],
   "source": [
    "df = df.set_index('Identifier')"
   ]
  },
  {
   "cell_type": "code",
   "execution_count": null,
   "id": "c05d7806",
   "metadata": {},
   "outputs": [],
   "source": []
  },
  {
   "cell_type": "markdown",
   "id": "3b4a8fdf",
   "metadata": {},
   "source": [
    "# 查看基本信息"
   ]
  },
  {
   "cell_type": "markdown",
   "id": "1c21dd86",
   "metadata": {},
   "source": [
    "## 基本"
   ]
  },
  {
   "cell_type": "code",
   "execution_count": null,
   "id": "771b624b",
   "metadata": {},
   "outputs": [],
   "source": [
    "data.info()\n",
    "data.head()\n",
    "data.tail()\n",
    "data.shape\n",
    "data.dtypes\n",
    "data.value_counts()\n",
    "data.describe()\n",
    "type(data)\n",
    "\n",
    "###显示前100行\n",
    "dead11w[:100]\n",
    "\n",
    "选择一列：`data['columnname']`    \n",
    "选择一列的前几行数据：`data['columnsname'][:n]`   \n",
    "选择多列：`data[['column1','column2']] `  \n",
    "一维列联表（不显示nan）`value_counts()` **通常和describe搭配使用**"
   ]
  },
  {
   "cell_type": "code",
   "execution_count": null,
   "id": "c7fb4369",
   "metadata": {},
   "outputs": [],
   "source": [
    "list_a_max_list = max(list_a) #返回最大值\n",
    "max_index = list_a.index(max(list_a)) # 返回最大值的索引 "
   ]
  },
  {
   "cell_type": "markdown",
   "id": "32c40dd3",
   "metadata": {},
   "source": [
    "## sort_values/sort_index"
   ]
  },
  {
   "cell_type": "code",
   "execution_count": null,
   "id": "60172943",
   "metadata": {},
   "outputs": [],
   "source": [
    "###column按顺序查看\n",
    "dead98w.sort_index(axis=1)\n",
    "discipline.sort_values(by=(['Red Cards','Yellow Cards']),ascending=False)\n",
    "glass.sort_values(by='al', inplace=True)"
   ]
  },
  {
   "cell_type": "markdown",
   "id": "4bca17b0",
   "metadata": {},
   "source": [
    "## nlargest---按某变量排序取最大/小值"
   ]
  },
  {
   "cell_type": "code",
   "execution_count": null,
   "id": "b70d12ca",
   "metadata": {},
   "outputs": [],
   "source": [
    "DataFrame.nlargest(n, columns, keep='first')\n",
    "## keep='last' 倒序\n",
    "df.nlargest(3, ['population', 'GDP'])\n",
    "##指定显示的列"
   ]
  },
  {
   "cell_type": "markdown",
   "id": "9ef5f26f",
   "metadata": {},
   "source": [
    "## 按变量类型分开变量"
   ]
  },
  {
   "cell_type": "code",
   "execution_count": null,
   "id": "3eab737e",
   "metadata": {},
   "outputs": [],
   "source": [
    "quantitative = [f for f in train.columns if train.dtypes[f] != 'object']\n",
    "quantitative.remove('SalePrice')\n",
    "quantitative.remove('Id')\n",
    "qualitative = [f for f in train.columns if train.dtypes[f] == 'object']"
   ]
  },
  {
   "cell_type": "code",
   "execution_count": null,
   "id": "64f9c021",
   "metadata": {},
   "outputs": [],
   "source": [
    "frame.select_dtypes(include=['object']) ##int/bool/float"
   ]
  },
  {
   "cell_type": "markdown",
   "id": "2229df72",
   "metadata": {},
   "source": [
    "## 条件提取"
   ]
  },
  {
   "cell_type": "code",
   "execution_count": null,
   "id": "3c363e71",
   "metadata": {},
   "outputs": [],
   "source": [
    "按列取、按索引/行取、按特定行列取\n",
    "import numpy as np\n",
    "from pandas import DataFrame\n",
    "import pandas as pd\n",
    "df=DataFrame(np.arange(12).reshape((3,4)),index=['one','two','thr'],columns=list('abcd'))\n",
    " \n",
    "df['a']#取a列\n",
    "df[['a','b']]#取a、b列\n",
    " \n",
    "#ix可以用数字索引，也可以用index和column索引\n",
    "df.ix[0]#取第0行\n",
    "df.ix[0:1]#取第0行\n",
    "df.ix['one':'two']#取one、two行\n",
    "df.ix[0:2,0]#取第0、1行，第0列\n",
    "df.ix[0:1,'a']#取第0行，a列\n",
    "df.ix[0:2,'a':'c']#取第0、1行，abc列\n",
    "df.ix['one':'two','a':'c']#取one、two行，abc列\n",
    "df.ix[0:2,0:1]#取第0、1行，第0列\n",
    "df.ix[0:2,0:2]#取第0、1行，第0、1列\n",
    " \n",
    "#loc只能通过index和columns来取，不能用数字\n",
    "df.loc['one','a']#one行，a列\n",
    "df.loc['one':'two','a']#one到two行，a列\n",
    "df.loc['one':'two','a':'c']#one到two行，a到c列\n",
    "df.loc['one':'two',['a','c']]#one到two行，ac列\n",
    " \n",
    "#iloc只能用数字索引，不能用索引名\n",
    "df.iloc[0:2]#前2行\n",
    "df.iloc[0]#第0行\n",
    "df.iloc[0:2,0:2]#0、1行，0、1列\n",
    "df.iloc[[0,2],[1,2,3]]#第0、2行，1、2、3列\n",
    " \n",
    "#iat取某个单值,只能数字索引\n",
    "df.iat[1,1]#第1行，1列\n",
    "#at取某个单值,只能index和columns索引\n",
    "df.at['one','a']#one行，a列\n",
    "0.3  2.按条件取行"
   ]
  },
  {
   "cell_type": "code",
   "execution_count": null,
   "id": "667b0ca8",
   "metadata": {},
   "outputs": [],
   "source": [
    "#选取等于某些值的行记录 用 ==\n",
    "df.loc[df[‘column_name’] == some_value]\n",
    " \n",
    "#选取某列是否是某一类型的数值 用 isin\n",
    "##传入列表\n",
    "df.loc[df[‘column_name’].isin(some_values)]\n",
    " \n",
    "#多种条件的选取 用 &\n",
    "df.loc[(df[‘column’] == some_value) & df[‘other_column’].isin(some_values)]\n",
    " \n",
    "#选取不等于某些值的行记录 用 ！=\n",
    "df.loc[df[‘column_name’] != some_value]\n",
    " \n",
    "#isin返回一系列的数值,如果要选择不符合这个条件的数值使用~\n",
    "df.loc[~df[‘column_name’].isin(some_values)]\n",
    "\n",
    "df.iloc[5].at['B']"
   ]
  },
  {
   "cell_type": "markdown",
   "id": "d85e556e",
   "metadata": {},
   "source": [
    "## query超级好用"
   ]
  },
  {
   "cell_type": "code",
   "execution_count": null,
   "id": "035a5da8",
   "metadata": {},
   "outputs": [],
   "source": [
    "data=tips.query('sex==\"Female\"')"
   ]
  },
  {
   "cell_type": "code",
   "execution_count": null,
   "id": "72403421",
   "metadata": {},
   "outputs": [],
   "source": [
    "df.query('deaths>10 and region==\"here\"')\n",
    "## 可以用& ｜"
   ]
  },
  {
   "cell_type": "code",
   "execution_count": null,
   "id": "45a36add",
   "metadata": {},
   "outputs": [],
   "source": [
    "df.query('index in (1,2,3)')"
   ]
  },
  {
   "cell_type": "code",
   "execution_count": null,
   "id": "e5c1da26",
   "metadata": {},
   "outputs": [],
   "source": [
    "df.query('readiness in (1,2) or regiment in (\"Scouts\") ')"
   ]
  },
  {
   "cell_type": "code",
   "execution_count": null,
   "id": "c9bc673d",
   "metadata": {},
   "outputs": [],
   "source": [
    "##布尔逻辑\n",
    "df['bools'] = df['readiness']<2\n",
    "df.query('bools')"
   ]
  },
  {
   "cell_type": "code",
   "execution_count": null,
   "id": "421842e9",
   "metadata": {},
   "outputs": [],
   "source": [
    "##布尔取反\n",
    "df.query('bools')\n",
    "df.query('~bools')\n",
    "df.query('not bools')"
   ]
  },
  {
   "cell_type": "markdown",
   "id": "72929e17",
   "metadata": {},
   "source": [
    "# pands plot"
   ]
  },
  {
   "cell_type": "code",
   "execution_count": null,
   "id": "9e7172ed",
   "metadata": {},
   "outputs": [],
   "source": [
    "df.plot.line() # 折线的全写方式\n",
    "df.plot.bar() # 柱状图\n",
    "df.plot.barh() # 横向柱状图 （条形图）\n",
    "df.plot.hist() # 直方图\n",
    "df.plot.box() # 箱形图\n",
    "df.plot.kde() # 核密度估计图\n",
    "df.plot.density() # 同 df.plot.kde()\n",
    "df.plot.area() # 面积图\n",
    "df.plot.pie() # 饼图\n",
    "df.plot.scatter() # 散点图\n",
    "df.plot.hexbin() # 六边形箱体图，或简称六边形图\n",
    "## 指定：data,x,y"
   ]
  },
  {
   "cell_type": "code",
   "execution_count": null,
   "id": "19c0efb6",
   "metadata": {},
   "outputs": [],
   "source": [
    "glass.plot(kind='scatter', x='al', y='ri')\n",
    "\n",
    "# 同款：\n",
    "# plt.scatter(glass.al, glass.ri)\n",
    "# plt.xlabel('al')\n",
    "# plt.ylabel('ri')"
   ]
  },
  {
   "cell_type": "markdown",
   "id": "104b2049",
   "metadata": {},
   "source": [
    "# 处理"
   ]
  },
  {
   "cell_type": "markdown",
   "id": "8b42434c",
   "metadata": {},
   "source": [
    "## 变量重命名/更改值/条件生成新变量"
   ]
  },
  {
   "cell_type": "markdown",
   "id": "3ec72d76",
   "metadata": {},
   "source": [
    "### 变量重命名----rename"
   ]
  },
  {
   "cell_type": "code",
   "execution_count": null,
   "id": "8b47d530",
   "metadata": {},
   "outputs": [],
   "source": [
    "data = data.rename(columns = {‘title_year’:’release_date’, ‘movie_facebook_likes’:’facebook_likes’})\n"
   ]
  },
  {
   "cell_type": "markdown",
   "id": "b922ede0",
   "metadata": {},
   "source": [
    "### 更改变量值----replace & map"
   ]
  },
  {
   "cell_type": "code",
   "execution_count": null,
   "id": "ef5489ce",
   "metadata": {},
   "outputs": [],
   "source": [
    "s.replace(0, 5) # 将列数据中 0 换为 5\n",
    "df.replace(0, 5) # 将数据中所有 0 换为 5\n",
    "df.replace([0, 1, 2, 3], 4) # 将 0-3 全换成 4\n",
    "\n",
    "##这一行最实用：\n",
    "frame.year.replace([2000, 2001, 2002], [1998, 1997, 1996]) # 对应修改##\n",
    "\n",
    "###以上也可以用字典\n",
    "df.replace({0: 10, 1: 100}) # 字典对应修改\n",
    "df.replace({'Q1': 0, 'Q2': 5}, 100) # 指定字段的指定值修改为 100\n",
    "df.replace({'Q1': {0: 100, 4: 400}}) # 指定列里指定值按指定的值替换\n",
    "\n",
    "### 用字典最简单\n",
    "dic1={1:0,2:1,3:2,4:3,5:4,8:np.nan,9:np.nan}\n",
    "df_1['pdi4']=df_1['b27'].replace(dic1)\n",
    "\n",
    "### 正则化\n",
    "df.replace(to_replace=r'^ba.$', value='new', regex=True)\n",
    "df.replace({'A': r'^ba.$'}, {'A': 'new'}, regex=True)\n",
    "df.replace(regex={r'^ba.$': 'new', 'foo': 'xyz'})\n",
    "df.replace(regex=[r'^ba.$', 'foo'], value='new')\n",
    "\n",
    "#大于1的替换为10\n",
    "s.mask(s > 1, 10)\n",
    "df_1.insurance=df_1.insurance.mask(df_1.insurance>1,1)\n",
    "\n",
    "# 用map编码\n",
    "glass['household'] = glass.glass_type.map({1:0, 2:0, 3:0, 5:1, 6:1, 7:1})"
   ]
  },
  {
   "cell_type": "markdown",
   "id": "97d0e066",
   "metadata": {},
   "source": [
    "### 条件于其他变量，更改变量值-----loc & dict"
   ]
  },
  {
   "cell_type": "code",
   "execution_count": null,
   "id": "82a6049c",
   "metadata": {},
   "outputs": [],
   "source": [
    "#根据另一列的数值生成新的一列，loc就直接改了，不用再重新赋给原变量了\n",
    "df_1['care_social']=0\n",
    "df_1.loc[df_1.e610==9|10|11,'care_social'] = 1\n",
    "df_1.loc[(df_1.e610==1|2|3|4|5|6|7|8) |(df_1.livingarr==1),'care_social'] = 1"
   ]
  },
  {
   "cell_type": "code",
   "execution_count": null,
   "id": "ece13a31",
   "metadata": {},
   "outputs": [],
   "source": [
    "##有for的时候变量不用加单引号\n",
    "for var in col6:\n",
    "    df_1[var]=df_1[var].replace([8,9,99],np.nan).replace(88,0)\n",
    "    df_1.loc[df_1[var]<0,var] = 1"
   ]
  },
  {
   "cell_type": "code",
   "execution_count": null,
   "id": "8f0c1fa2",
   "metadata": {},
   "outputs": [],
   "source": [
    "### 用字典最简单\n",
    "dic1={1:0,2:1,3:2,4:3,5:4,8:np.nan,9:np.nan}\n",
    "df_1['pdi4']=df_1['b27'].replace(dic1)"
   ]
  },
  {
   "cell_type": "markdown",
   "id": "d3ab0638",
   "metadata": {},
   "source": [
    "### 条件生成新变量"
   ]
  },
  {
   "cell_type": "code",
   "execution_count": null,
   "id": "aba69358",
   "metadata": {},
   "outputs": [],
   "source": [
    "df['foo'] = 100 # 增加一列 foo, 所有值都是 100\n",
    "df['foo'] = df.Q1 + df.Q2 # 新列为两列相加\n",
    "df['foo'] = df['Q1'] + df['Q2'] # 同上\n",
    "# 把所有为数字的加起来\n",
    "df['total'] = df.select_dtypes(include=['int']).sum(1)\n",
    "df['total'] = df.loc[:,'Q1':'Q4'].apply(lambda x: sum(x), axis='columns')\n",
    "df.loc[:, 'Q10'] = '我是新来的' # 也可以\n",
    "# 增加一列并赋值，不满足条件的为 NaN\n",
    "df.loc[df.num >= 60, '成绩'] = '合格'\n",
    "df.loc[df.num < 60, '成绩'] = '不合格'"
   ]
  },
  {
   "cell_type": "code",
   "execution_count": null,
   "id": "4b296c54",
   "metadata": {},
   "outputs": [],
   "source": [
    "## eval\n",
    "df['C1'] = df.eval('Q2 + Q3')\n",
    "df.eval('C2 = Q2 + Q3') # 计算\n",
    "a = df.Q1.mean()\n",
    "df.eval(\"C3 = `Q3`+@a\") # 使用变量\n",
    "df.eval(\"C3 = Q2 > (`Q3`+@a)\") # 加一个布尔值\n",
    "df.eval('C4 = name + team', inplace=True) # 立即生效"
   ]
  },
  {
   "cell_type": "markdown",
   "id": "8051693b",
   "metadata": {},
   "source": [
    "## 重复值"
   ]
  },
  {
   "cell_type": "markdown",
   "id": "bd38a804",
   "metadata": {},
   "source": [
    "### 看重复值统计"
   ]
  },
  {
   "cell_type": "code",
   "execution_count": null,
   "id": "a3cdc3ba",
   "metadata": {},
   "outputs": [],
   "source": [
    "df.duplicated(subset=['brand','style']).sum()"
   ]
  },
  {
   "cell_type": "code",
   "execution_count": null,
   "id": "5e1d00ff",
   "metadata": {},
   "outputs": [],
   "source": [
    "dataframe.colname.duplicated()"
   ]
  },
  {
   "cell_type": "markdown",
   "id": "1a06ff34",
   "metadata": {},
   "source": [
    "### 筛选重复行"
   ]
  },
  {
   "cell_type": "code",
   "execution_count": null,
   "id": "bb46d833",
   "metadata": {},
   "outputs": [],
   "source": [
    "df[df.duplicated('brand')]\n",
    "df[df.duplicated('brand')==False] ##筛除非重复行"
   ]
  },
  {
   "cell_type": "code",
   "execution_count": null,
   "id": "499cfe53",
   "metadata": {},
   "outputs": [],
   "source": []
  },
  {
   "cell_type": "markdown",
   "id": "1901cb18",
   "metadata": {},
   "source": [
    "### 删除重复行"
   ]
  },
  {
   "cell_type": "code",
   "execution_count": null,
   "id": "539359cf",
   "metadata": {},
   "outputs": [],
   "source": [
    "df.drop_duplicates(inplace=True)  ###确保column里没有重复变量"
   ]
  },
  {
   "cell_type": "code",
   "execution_count": null,
   "id": "f7b1ab89",
   "metadata": {},
   "outputs": [],
   "source": []
  },
  {
   "cell_type": "markdown",
   "id": "16b8f9ca",
   "metadata": {},
   "source": [
    "## 缺失值"
   ]
  },
  {
   "cell_type": "markdown",
   "id": "2272a72d",
   "metadata": {},
   "source": [
    "### 可视化和统计"
   ]
  },
  {
   "cell_type": "code",
   "execution_count": 12,
   "id": "6ebf2513",
   "metadata": {},
   "outputs": [],
   "source": [
    "df.iloc[1,0:1]=np.nan"
   ]
  },
  {
   "cell_type": "code",
   "execution_count": 13,
   "id": "23f0fbdd",
   "metadata": {},
   "outputs": [
    {
     "data": {
      "text/plain": [
       "<AxesSubplot:>"
      ]
     },
     "execution_count": 13,
     "metadata": {},
     "output_type": "execute_result"
    },
    {
     "data": {
      "image/png": "[encoded data removed]",
      "text/plain": [
       "<Figure size 432x288 with 1 Axes>"
      ]
     },
     "metadata": {
      "needs_background": "light"
     },
     "output_type": "display_data"
    }
   ],
   "source": [
    "missing = df.isnull().sum()\n",
    "missing = missing[missing > 0]\n",
    "missing.sort_values(inplace=True)\n",
    "missing.plot.bar()"
   ]
  },
  {
   "cell_type": "code",
   "execution_count": 15,
   "id": "9c44dc9c",
   "metadata": {},
   "outputs": [
    {
     "data": {
      "text/plain": [
       "age       1\n",
       "name      0\n",
       "(1, 2)    3\n",
       "dtype: int64"
      ]
     },
     "execution_count": 15,
     "metadata": {},
     "output_type": "execute_result"
    }
   ],
   "source": [
    "df.isna().sum()"
   ]
  },
  {
   "cell_type": "code",
   "execution_count": null,
   "id": "1b2b4341",
   "metadata": {},
   "outputs": [],
   "source": [
    "##看有缺失值的行\n",
    "news[news.isnull().values==True]  "
   ]
  },
  {
   "cell_type": "markdown",
   "id": "be8ecf1b",
   "metadata": {},
   "source": [
    "### 填充缺失值\n",
    "dropna：https://pandas.pydata.org/pandas-docs/stable/reference/api/pandas.DataFrame.dropna.html   \n",
    "fillna：https://pandas.pydata.org/pandas-docs/stable/reference/api/pandas.DataFrame.fillna.html"
   ]
  },
  {
   "cell_type": "markdown",
   "id": "288f484a",
   "metadata": {},
   "source": [
    "### 常数填充"
   ]
  },
  {
   "cell_type": "code",
   "execution_count": null,
   "id": "ca5d8693",
   "metadata": {},
   "outputs": [],
   "source": [
    "df.fillna(0) # 空全修改为 0\n",
    "\n",
    "# {‘backfill’, ‘bfill’, ‘pad’, ‘ffill’, None}, default None\n",
    "# bfill用前一个填充\n",
    "df.fillna(method='ffill') # 都修改为它前一个值\n",
    "\n",
    "\n",
    "values = {'A': 0, 'B': 1, 'C': 2, 'D': 3}\n",
    "df.fillna(value=values) # 各列替换空值不同\n",
    "df.fillna(value=values, limit=1) # 只替换第一个"
   ]
  },
  {
   "cell_type": "markdown",
   "id": "e0dd5024",
   "metadata": {},
   "source": [
    "### 均值，中位数，众数"
   ]
  },
  {
   "cell_type": "code",
   "execution_count": null,
   "id": "1059df0e",
   "metadata": {},
   "outputs": [],
   "source": [
    "fullData.Fare.fillna(fullData.Fare.median(), inplace=True）\n",
    "fullData.Age.fillna(fullData.Age.mean(), inplace=True)\n",
    "fullData.Embarked.value_counts() ##找到众数之后填充"
   ]
  },
  {
   "cell_type": "markdown",
   "id": "d6bf9e4f",
   "metadata": {},
   "source": [
    "### dummy填充分类变量\n",
    "会把原变量drop，留下dummies"
   ]
  },
  {
   "cell_type": "code",
   "execution_count": null,
   "id": "00b6031c",
   "metadata": {},
   "outputs": [],
   "source": [
    "pd=pd.get_dummies(df,dummy_na=True)\n",
    "#不仅会给分类变量生成dummy，还会给nan的ob单生成一列colname_nan\n",
    "\n",
    "pd.get_dummies(df,dummy_na=False)\n",
    "## 没有nan的单独列"
   ]
  },
  {
   "cell_type": "markdown",
   "id": "04bd009e",
   "metadata": {},
   "source": [
    "### 模型填充"
   ]
  },
  {
   "cell_type": "code",
   "execution_count": null,
   "id": "73d73951",
   "metadata": {},
   "outputs": [],
   "source": [
    "from sklearn.ensemble import RandomForestRegressor\n",
    "\n",
    "##choose training data to predict age\n",
    "age_df = trainData[['Age','Survived','Fare', 'Parch', 'SibSp', 'Pclass']]\n",
    "age_df_notnull = age_df.loc[(trainData['Age'].notnull())]\n",
    "age_df_isnull = age_df.loc[(trainData['Age'].isnull())]\n",
    "X = age_df_notnull.values[:,1:]\n",
    "Y = age_df_notnull.values[:,0]\n",
    "## use RandomForestRegression to train data\n",
    "RFR = RandomForestRegressor(n_estimators=1000, n_jobs=-1)\n",
    "RFR.fit(X,Y)\n",
    "predictAges = RFR.predict(age_df_isnull.values[:,1:])\n",
    "trainData.loc[trainData['Age'].isnull(), ['Age']]= predictAges"
   ]
  },
  {
   "cell_type": "markdown",
   "id": "c208435e",
   "metadata": {},
   "source": [
    "### 删除缺失值"
   ]
  },
  {
   "cell_type": "code",
   "execution_count": null,
   "id": "27aa2970",
   "metadata": {},
   "outputs": [],
   "source": [
    "frame3.dropna(how='any')  ##any可以变成all， any只要有na就删掉该行\n",
    "data.dropna(thresh=5) ###至少有5个非na才能留下来这一行\n",
    "data.dropna(subset=['title_year']) ##根据某变量是否是na来删除，可以传入list"
   ]
  },
  {
   "cell_type": "markdown",
   "id": "ff2dc7c0",
   "metadata": {},
   "source": [
    "### 删除列"
   ]
  },
  {
   "cell_type": "code",
   "execution_count": null,
   "id": "22c449d5",
   "metadata": {},
   "outputs": [],
   "source": [
    "## 删掉所所有缺失列\n",
    "data.dropna(axis=1, how='all',inplace=True)\n",
    "data.dropna(axis=1. how='any',inplace=True)\n",
    "# 也可以用threshold和subset"
   ]
  },
  {
   "cell_type": "code",
   "execution_count": null,
   "id": "f770a105",
   "metadata": {},
   "outputs": [],
   "source": [
    "##按条件删除列\n",
    "to_drop = ['Edition Statement','Corporate Author']\n",
    "df.drop(to_drop, inplace=True, axis=1)\n",
    "\n",
    "##按名字删掉列\n",
    "df=df.drop(columns=['state','area_code','phone_number'],inplace=True)"
   ]
  },
  {
   "cell_type": "markdown",
   "id": "9906b32d",
   "metadata": {},
   "source": [
    "### 条件删除"
   ]
  },
  {
   "cell_type": "code",
   "execution_count": null,
   "id": "c989ea59",
   "metadata": {},
   "outputs": [],
   "source": [
    "##按条件删除行\n",
    "colname=g.drop(g[g['1']==False].index)\n",
    "# 要删除列“score”<50的所有行：\n",
    "df = df.drop(df[df.score < 50].index)\n",
    "# 例如删除列“score<50 和>20的所有行\n",
    "df = df.drop(df[(df.score < 50) & (df.score > 20)].index)"
   ]
  },
  {
   "cell_type": "markdown",
   "id": "09b20df3",
   "metadata": {},
   "source": [
    "### 变缺失值"
   ]
  },
  {
   "cell_type": "code",
   "execution_count": null,
   "id": "d954353d",
   "metadata": {},
   "outputs": [],
   "source": [
    "df.replace(0,np.nan)"
   ]
  },
  {
   "cell_type": "markdown",
   "id": "06eb0855",
   "metadata": {},
   "source": [
    "### 其他"
   ]
  },
  {
   "cell_type": "code",
   "execution_count": null,
   "id": "d6e79ea4",
   "metadata": {},
   "outputs": [],
   "source": [
    "# 筛选出 x 列的缺失值\n",
    "df.x.loc[df.x.isna()]\n",
    "# 取 y 列的有效值\n",
    "vlues = df.y.loc[df.y.notna()].to_list()\n",
    "vlues\n",
    "df.x.loc[df.x.isna()] = vlues\n",
    "df"
   ]
  },
  {
   "cell_type": "markdown",
   "id": "a9685f95",
   "metadata": {},
   "source": [
    "## dummy 生成虚拟变量"
   ]
  },
  {
   "cell_type": "markdown",
   "id": "6f78693d",
   "metadata": {},
   "source": [
    "### get_dummies"
   ]
  },
  {
   "cell_type": "code",
   "execution_count": null,
   "id": "bccf1dd7",
   "metadata": {},
   "outputs": [],
   "source": [
    "livingarr_dummy= pd.get_dummies(df_1['livingarr'],drop_first=False,prefix='livingarr')\n",
    "livingarr_dummy.head()\n",
    "\n",
    "\n",
    "df_1=pd.concat([livingarr_dummy,df_1],axis=1)\n",
    "\n",
    "df_1.head()\n",
    "\n",
    "## 记得drop原变量\n"
   ]
  },
  {
   "cell_type": "markdown",
   "id": "bd11e551",
   "metadata": {},
   "source": [
    "### map"
   ]
  },
  {
   "cell_type": "code",
   "execution_count": null,
   "id": "a7c99b1f",
   "metadata": {},
   "outputs": [],
   "source": [
    "# 用map转换，convert label to a numeric variable\n",
    "sms['label'] = sms.label.map({'ham':0, 'spam':1})"
   ]
  },
  {
   "cell_type": "code",
   "execution_count": null,
   "id": "497b887c",
   "metadata": {},
   "outputs": [],
   "source": []
  },
  {
   "cell_type": "markdown",
   "id": "8d912dd7",
   "metadata": {},
   "source": [
    "### sklearn自带，产生array，最好不用"
   ]
  },
  {
   "cell_type": "code",
   "execution_count": null,
   "id": "609af131",
   "metadata": {},
   "outputs": [],
   "source": [
    "### sklearn---labelbinarizer/multilebelbinarizer\n",
    "\n",
    "import numpy as np\n",
    "# 先创建一个特征\n",
    "nominal = np.array([[\"A\"], [\"B\"], [\"C\"],\n",
    "         [\"D\"]])\n",
    "# 导入LabelBinarizer\n",
    "from sklearn.preprocessing import LabelBinarizer\n",
    "one_hot = LabelBinarizer()  # 创建one-hot编码器\n",
    "data_array=one_hot.fit_transform(nominal) # 对特征进行one-hot编码\n",
    "\n",
    "#输出的是array，变data frame：\n",
    "pd.DataFrame(data_array, index=row_indices, columns=column_names)\n",
    "\n",
    "\n",
    "from sklearn.preprocessing import MultiLabelBinarizer\n",
    "multi_one_hot = MultiLabelBinarizer()\n",
    "multi_one_hot.fit_transform(multi_nominal)\n",
    "\n",
    "df=pd.DataFrame({'age':[1,2,3],\"name\":['a','e','d']})\n",
    "df\n",
    "from sklearn.preprocessing import LabelBinarizer, MultiLabelBinarizer\n",
    "\n",
    "lb = MultiLabelBinarizer()\n",
    "\n",
    "lb.fit_transform(df[col])"
   ]
  },
  {
   "cell_type": "markdown",
   "id": "7e28b40a",
   "metadata": {},
   "source": []
  },
  {
   "cell_type": "markdown",
   "id": "c68b7442",
   "metadata": {},
   "source": [
    "# 变量类型转换"
   ]
  },
  {
   "cell_type": "markdown",
   "id": "1c8fe3a7",
   "metadata": {},
   "source": [
    "## map"
   ]
  },
  {
   "cell_type": "code",
   "execution_count": null,
   "id": "da8f880c",
   "metadata": {},
   "outputs": [],
   "source": [
    "# 用map转换，convert label to a numeric variable\n",
    "sms['label'] = sms.label.map({'ham':0, 'spam':1})"
   ]
  },
  {
   "cell_type": "markdown",
   "id": "91fc2032",
   "metadata": {},
   "source": [
    "## apply&astype"
   ]
  },
  {
   "cell_type": "code",
   "execution_count": 23,
   "id": "3f180a8b",
   "metadata": {},
   "outputs": [
    {
     "data": {
      "text/html": [
       "<div>\n",
       "<style scoped>\n",
       "    .dataframe tbody tr th:only-of-type {\n",
       "        vertical-align: middle;\n",
       "    }\n",
       "\n",
       "    .dataframe tbody tr th {\n",
       "        vertical-align: top;\n",
       "    }\n",
       "\n",
       "    .dataframe thead th {\n",
       "        text-align: right;\n",
       "    }\n",
       "</style>\n",
       "<table border=\"1\" class=\"dataframe\">\n",
       "  <thead>\n",
       "    <tr style=\"text-align: right;\">\n",
       "      <th></th>\n",
       "      <th>state</th>\n",
       "      <th>year</th>\n",
       "      <th>pop</th>\n",
       "    </tr>\n",
       "  </thead>\n",
       "  <tbody>\n",
       "    <tr>\n",
       "      <th>0</th>\n",
       "      <td>Ohio</td>\n",
       "      <td>2000</td>\n",
       "      <td>1.5</td>\n",
       "    </tr>\n",
       "    <tr>\n",
       "      <th>1</th>\n",
       "      <td>Ohio</td>\n",
       "      <td>2001</td>\n",
       "      <td>1.7</td>\n",
       "    </tr>\n",
       "    <tr>\n",
       "      <th>2</th>\n",
       "      <td>Ohio</td>\n",
       "      <td>2002</td>\n",
       "      <td>3.6</td>\n",
       "    </tr>\n",
       "    <tr>\n",
       "      <th>3</th>\n",
       "      <td>Nevada</td>\n",
       "      <td>2001</td>\n",
       "      <td>2.4</td>\n",
       "    </tr>\n",
       "    <tr>\n",
       "      <th>4</th>\n",
       "      <td>Nevada</td>\n",
       "      <td>2002</td>\n",
       "      <td>2.9</td>\n",
       "    </tr>\n",
       "  </tbody>\n",
       "</table>\n",
       "</div>"
      ],
      "text/plain": [
       "    state  year  pop\n",
       "0    Ohio  2000  1.5\n",
       "1    Ohio  2001  1.7\n",
       "2    Ohio  2002  3.6\n",
       "3  Nevada  2001  2.4\n",
       "4  Nevada  2002  2.9"
      ]
     },
     "execution_count": 23,
     "metadata": {},
     "output_type": "execute_result"
    }
   ],
   "source": [
    "frame=pd.DataFrame({'state':['Ohio','Ohio','Ohio','Nevada','Nevada'],\n",
    "      'year':[2000, 2001, 2002, 2001, 2002],\n",
    "      'pop':[1.5, 1.7, 3.6, 2.4, 2.9]})\n",
    "frame"
   ]
  },
  {
   "cell_type": "markdown",
   "id": "89321f56",
   "metadata": {},
   "source": [
    "### astype\n",
    "DataFrame.astype(dtype, copy=True, errors=’raise’, **kwargs)"
   ]
  },
  {
   "cell_type": "code",
   "execution_count": 24,
   "id": "30462e66",
   "metadata": {},
   "outputs": [
    {
     "data": {
      "text/plain": [
       "0    2000\n",
       "1    2001\n",
       "2    2002\n",
       "3    2001\n",
       "4    2002\n",
       "Name: year, dtype: object"
      ]
     },
     "execution_count": 24,
     "metadata": {},
     "output_type": "execute_result"
    }
   ],
   "source": [
    "frame.year.astype('str')\n",
    "## str, int32, int64, float, "
   ]
  },
  {
   "cell_type": "code",
   "execution_count": null,
   "id": "ca1aba4e",
   "metadata": {},
   "outputs": [],
   "source": [
    "df=frame.apply(pd.to_numeric,errors='ignore')  \n",
    "\n",
    "##ignore是遇到错误不转换该列，coerce是转换成na"
   ]
  },
  {
   "cell_type": "markdown",
   "id": "456b20ed",
   "metadata": {},
   "source": [
    "## list变data frame变字典---用zip"
   ]
  },
  {
   "cell_type": "code",
   "execution_count": 25,
   "id": "a787a7a4",
   "metadata": {},
   "outputs": [
    {
     "name": "stdout",
     "output_type": "stream",
     "text": [
      "  project attribute\n",
      "0    Name       Ali\n",
      "1     Age        19\n",
      "2  Gender     China\n"
     ]
    },
    {
     "data": {
      "text/plain": [
       "{'Name': ['Ali'], 'Age': ['19'], 'Gender': ['China']}"
      ]
     },
     "execution_count": 25,
     "metadata": {},
     "output_type": "execute_result"
    }
   ],
   "source": [
    "a = ['Name', 'Age', 'Gender']\n",
    "b = ['Ali', '19', 'China']\n",
    "data = pd.DataFrame(zip(a, b), columns=['project', 'attribute'])\n",
    "print (data)\n",
    "\n",
    "dict_country = data.set_index('project').T.to_dict('list')\n",
    "dict_country"
   ]
  },
  {
   "cell_type": "markdown",
   "id": "cac62d16",
   "metadata": {},
   "source": [
    "# 字符串"
   ]
  },
  {
   "cell_type": "markdown",
   "id": "da7d81ab",
   "metadata": {},
   "source": [
    "## 分割提取----slice/str.split"
   ]
  },
  {
   "cell_type": "code",
   "execution_count": 27,
   "id": "49ad15c3",
   "metadata": {},
   "outputs": [
    {
     "data": {
      "text/plain": [
       "['Alex', ' Bob', ' Clare']"
      ]
     },
     "execution_count": 27,
     "metadata": {},
     "output_type": "execute_result"
    }
   ],
   "source": [
    "names_str = 'Alex, Bob, Clare' # 这是一个字符串\n",
    "names_str.split(','，expand=True) # 结果是一个List\n",
    "## expand=True将字符串放在两列"
   ]
  },
  {
   "cell_type": "code",
   "execution_count": null,
   "id": "754c5ec9",
   "metadata": {},
   "outputs": [],
   "source": [
    "# 直接切片\n",
    "str_data['name'].str[:5]"
   ]
  },
  {
   "cell_type": "code",
   "execution_count": null,
   "id": "e069c680",
   "metadata": {},
   "outputs": [],
   "source": [
    "dead11w['wave']=dead11w.id.str.slice(start=6,stop=8)"
   ]
  },
  {
   "cell_type": "markdown",
   "id": "d51f9014",
   "metadata": {},
   "source": [
    "## 清除空格/替换"
   ]
  },
  {
   "cell_type": "code",
   "execution_count": null,
   "id": "3fa326d5",
   "metadata": {},
   "outputs": [],
   "source": [
    "name.str.strip()\n",
    "a.replace('\\s+','',regex=True,inplace=True) "
   ]
  },
  {
   "cell_type": "markdown",
   "id": "d41f9986",
   "metadata": {},
   "source": [
    "## 开头和结尾"
   ]
  },
  {
   "cell_type": "code",
   "execution_count": null,
   "id": "3497be91",
   "metadata": {},
   "outputs": [],
   "source": [
    ".startwith()\n",
    ".endwith()"
   ]
  },
  {
   "cell_type": "markdown",
   "id": "7bb12c63",
   "metadata": {},
   "source": [
    "## 判断包含"
   ]
  },
  {
   "cell_type": "code",
   "execution_count": null,
   "id": "c00f01bb",
   "metadata": {},
   "outputs": [],
   "source": [
    "data.prov.str.contains(\"福建\")\n",
    "data[data.prov.str.contains(\"福建\")]\n",
    "data[data.prov.str.contains(\"福建|广东\")]"
   ]
  },
  {
   "cell_type": "code",
   "execution_count": null,
   "id": "140a81a3",
   "metadata": {},
   "outputs": [],
   "source": []
  },
  {
   "cell_type": "markdown",
   "id": "9e151c84",
   "metadata": {},
   "source": [
    "# 标准化"
   ]
  },
  {
   "cell_type": "code",
   "execution_count": null,
   "id": "077cbfd4",
   "metadata": {},
   "outputs": [],
   "source": [
    "from sklearn.preprocessing import StandardScaler\n",
    "scaler=StandardScaler()\n",
    "scaler.fit(x_train)\n",
    "x_train=scaler.transform(x_train)\n",
    "x_test=scaler.transform(x_test)\n",
    "## MaxAbsScaler() 放到[-1,1]之间\n",
    "## MinMaxScaler() 放到[0,1]之间\n",
    "## fit_transform x_train\n",
    "## test data不用fit"
   ]
  },
  {
   "cell_type": "markdown",
   "id": "f13678a1",
   "metadata": {},
   "source": [
    "**取log**"
   ]
  },
  {
   "cell_type": "code",
   "execution_count": null,
   "id": "63bce10f",
   "metadata": {},
   "outputs": [],
   "source": [
    "df_1['log_total_giving']=(df_1['total_giving']+1).apply(np.log1p)"
   ]
  },
  {
   "cell_type": "code",
   "execution_count": null,
   "id": "e6e4d7e3",
   "metadata": {},
   "outputs": [],
   "source": []
  },
  {
   "cell_type": "code",
   "execution_count": null,
   "id": "ee9bf364",
   "metadata": {},
   "outputs": [],
   "source": []
  },
  {
   "cell_type": "code",
   "execution_count": null,
   "id": "e5936cce",
   "metadata": {},
   "outputs": [],
   "source": []
  },
  {
   "cell_type": "code",
   "execution_count": null,
   "id": "005fc6a6",
   "metadata": {},
   "outputs": [],
   "source": []
  },
  {
   "cell_type": "code",
   "execution_count": null,
   "id": "19554601",
   "metadata": {},
   "outputs": [],
   "source": []
  },
  {
   "cell_type": "code",
   "execution_count": null,
   "id": "aea14021",
   "metadata": {},
   "outputs": [],
   "source": []
  },
  {
   "cell_type": "code",
   "execution_count": null,
   "id": "240bd041",
   "metadata": {},
   "outputs": [],
   "source": []
  },
  {
   "cell_type": "code",
   "execution_count": null,
   "id": "02244eb7",
   "metadata": {},
   "outputs": [],
   "source": []
  },
  {
   "cell_type": "code",
   "execution_count": null,
   "id": "22dd6a4f",
   "metadata": {},
   "outputs": [],
   "source": []
  },
  {
   "cell_type": "code",
   "execution_count": null,
   "id": "9f17d2dd",
   "metadata": {},
   "outputs": [],
   "source": []
  },
  {
   "cell_type": "code",
   "execution_count": null,
   "id": "d324914d",
   "metadata": {},
   "outputs": [],
   "source": []
  },
  {
   "cell_type": "code",
   "execution_count": null,
   "id": "6b9bce1a",
   "metadata": {},
   "outputs": [],
   "source": []
  },
  {
   "cell_type": "code",
   "execution_count": null,
   "id": "909c24be",
   "metadata": {},
   "outputs": [],
   "source": []
  },
  {
   "cell_type": "code",
   "execution_count": null,
   "id": "2d6ab955",
   "metadata": {},
   "outputs": [],
   "source": []
  },
  {
   "cell_type": "code",
   "execution_count": null,
   "id": "67bb7a98",
   "metadata": {},
   "outputs": [],
   "source": []
  },
  {
   "cell_type": "code",
   "execution_count": null,
   "id": "9dce3ca8",
   "metadata": {},
   "outputs": [],
   "source": []
  },
  {
   "cell_type": "code",
   "execution_count": null,
   "id": "d079c9af",
   "metadata": {},
   "outputs": [],
   "source": []
  },
  {
   "cell_type": "code",
   "execution_count": null,
   "id": "fe2248dd",
   "metadata": {},
   "outputs": [],
   "source": []
  },
  {
   "cell_type": "code",
   "execution_count": null,
   "id": "165feec5",
   "metadata": {},
   "outputs": [],
   "source": []
  },
  {
   "cell_type": "code",
   "execution_count": null,
   "id": "e0d12aba",
   "metadata": {},
   "outputs": [],
   "source": []
  },
  {
   "cell_type": "code",
   "execution_count": null,
   "id": "f6e0dc39",
   "metadata": {},
   "outputs": [],
   "source": []
  },
  {
   "cell_type": "code",
   "execution_count": null,
   "id": "4afd4e66",
   "metadata": {},
   "outputs": [],
   "source": []
  },
  {
   "cell_type": "code",
   "execution_count": null,
   "id": "6c1da681",
   "metadata": {},
   "outputs": [],
   "source": []
  }
 ],
 "metadata": {
  "kernelspec": {
   "display_name": "Python 3 (ipykernel)",
   "language": "python",
   "name": "python3"
  },
  "language_info": {
   "codemirror_mode": {
    "name": "ipython",
    "version": 3
   },
   "file_extension": ".py",
   "mimetype": "text/x-python",
   "name": "python",
   "nbconvert_exporter": "python",
   "pygments_lexer": "ipython3",
   "version": "3.9.7"
  },
  "toc": {
   "base_numbering": 1,
   "nav_menu": {},
   "number_sections": true,
   "sideBar": true,
   "skip_h1_title": false,
   "title_cell": "Table of Contents",
   "title_sidebar": "Contents",
   "toc_cell": false,
   "toc_position": {},
   "toc_section_display": true,
   "toc_window_display": false
  }
 },
 "nbformat": 4,
 "nbformat_minor": 5
}
